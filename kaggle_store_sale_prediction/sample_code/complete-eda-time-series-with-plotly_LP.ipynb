{
 "cells": [
  {
   "cell_type": "markdown",
   "metadata": {
    "_uuid": "2fd9e1f219a2d9c5c607079b91a7d180ad2bf56f"
   },
   "source": [
    "<h2>Complete exploratory data analysis</h2>\n",
    "\n",
    "We will be using pandas, scipy, seaborn and plotly to explore the train.csv data. Interactive plots will be used to visualize the time series since we have many data points.\n",
    "\n",
    "Some key factors about this dataset:\n",
    "* Number of rows: 913k\n",
    "* Just three columns: store, item and sales.\n",
    "* Fifty different items and ten stores\n",
    "* Sales are measured for each item, store and date (daily)\n",
    "* Five years time frame (2013/01/01 to 2017/12/31)\n",
    "* No missing data\n",
    "\n",
    "I will be updating this notebook as possible. Please upvote if you find usefull, thanks.\n"
   ]
  },
  {
   "cell_type": "code",
   "execution_count": 2,
   "metadata": {
    "_kg_hide-input": true,
    "_uuid": "f39648637d0f1473d2fd2fb042e9082d58e7b7ca"
   },
   "outputs": [],
   "source": [
    "import numpy as np\n",
    "import pandas as pd\n",
    "import scipy.stats as st\n",
    "import statsmodels as sm\n",
    "import warnings\n",
    "# Matplotlib e Seaborn\n",
    "import matplotlib.pyplot as plt\n",
    "%matplotlib inline\n",
    "import seaborn as sns\n",
    "sns.set(style=\"white\", palette=\"muted\", color_codes=True)\n",
    "# Plotly\n",
    "# from plotly.offline import download_plotlyjs, init_notebook_mode, plot, iplot\n",
    "# import plotly.graph_objs as go\n",
    "# init_notebook_mode()"
   ]
  },
  {
   "cell_type": "code",
   "execution_count": 5,
   "metadata": {},
   "outputs": [
    {
     "name": "stdout",
     "output_type": "stream",
     "text": [
      "C:\\Users\\Linh Pham\\Desktop\\Spider\\kaggle_store_sale_prediction\\sample_code\n"
     ]
    }
   ],
   "source": [
    "import os\n",
    "print(os.getcwd())"
   ]
  },
  {
   "cell_type": "markdown",
   "metadata": {
    "_uuid": "91a65026a61271eaae8b31390fc58709b883815c"
   },
   "source": [
    "<h3>1. Statistics</h3>\n",
    "\n",
    "As mentioned before there are no missing values in this dataset and all values are numeric (integers). Let's start by looking at some basic statistics: "
   ]
  },
  {
   "cell_type": "code",
   "execution_count": 6,
   "metadata": {
    "_cell_guid": "b1076dfc-b9ad-4769-8c92-a6c4dae69d19",
    "_kg_hide-input": false,
    "_uuid": "8f2839f25d086af736a60e9eeb907d3b93b6e0e5"
   },
   "outputs": [
    {
     "data": {
      "text/html": [
       "<div>\n",
       "<style scoped>\n",
       "    .dataframe tbody tr th:only-of-type {\n",
       "        vertical-align: middle;\n",
       "    }\n",
       "\n",
       "    .dataframe tbody tr th {\n",
       "        vertical-align: top;\n",
       "    }\n",
       "\n",
       "    .dataframe thead th {\n",
       "        text-align: right;\n",
       "    }\n",
       "</style>\n",
       "<table border=\"1\" class=\"dataframe\">\n",
       "  <thead>\n",
       "    <tr style=\"text-align: right;\">\n",
       "      <th></th>\n",
       "      <th>store</th>\n",
       "      <th>item</th>\n",
       "      <th>sales</th>\n",
       "    </tr>\n",
       "  </thead>\n",
       "  <tbody>\n",
       "    <tr>\n",
       "      <th>count</th>\n",
       "      <td>913000.000000</td>\n",
       "      <td>913000.000000</td>\n",
       "      <td>913000.000000</td>\n",
       "    </tr>\n",
       "    <tr>\n",
       "      <th>mean</th>\n",
       "      <td>5.500000</td>\n",
       "      <td>25.500000</td>\n",
       "      <td>52.250287</td>\n",
       "    </tr>\n",
       "    <tr>\n",
       "      <th>std</th>\n",
       "      <td>2.872283</td>\n",
       "      <td>14.430878</td>\n",
       "      <td>28.801144</td>\n",
       "    </tr>\n",
       "    <tr>\n",
       "      <th>min</th>\n",
       "      <td>1.000000</td>\n",
       "      <td>1.000000</td>\n",
       "      <td>0.000000</td>\n",
       "    </tr>\n",
       "    <tr>\n",
       "      <th>25%</th>\n",
       "      <td>3.000000</td>\n",
       "      <td>13.000000</td>\n",
       "      <td>30.000000</td>\n",
       "    </tr>\n",
       "    <tr>\n",
       "      <th>50%</th>\n",
       "      <td>5.500000</td>\n",
       "      <td>25.500000</td>\n",
       "      <td>47.000000</td>\n",
       "    </tr>\n",
       "    <tr>\n",
       "      <th>75%</th>\n",
       "      <td>8.000000</td>\n",
       "      <td>38.000000</td>\n",
       "      <td>70.000000</td>\n",
       "    </tr>\n",
       "    <tr>\n",
       "      <th>max</th>\n",
       "      <td>10.000000</td>\n",
       "      <td>50.000000</td>\n",
       "      <td>231.000000</td>\n",
       "    </tr>\n",
       "  </tbody>\n",
       "</table>\n",
       "</div>"
      ],
      "text/plain": [
       "               store           item          sales\n",
       "count  913000.000000  913000.000000  913000.000000\n",
       "mean        5.500000      25.500000      52.250287\n",
       "std         2.872283      14.430878      28.801144\n",
       "min         1.000000       1.000000       0.000000\n",
       "25%         3.000000      13.000000      30.000000\n",
       "50%         5.500000      25.500000      47.000000\n",
       "75%         8.000000      38.000000      70.000000\n",
       "max        10.000000      50.000000     231.000000"
      ]
     },
     "execution_count": 6,
     "metadata": {},
     "output_type": "execute_result"
    }
   ],
   "source": [
    "# Read train.csv file and set datatype\n",
    "data_type = {'store': 'int8', 'item': 'int8', 'sales': 'int16'}\n",
    "# df = pd.read_csv(\"../input/train.csv\", parse_dates= ['date'], dtype= data_type)\n",
    "df = pd.read_csv(\"C:/Users/Linh Pham/Desktop/Spider/kaggle_store_sale_prediction/train.csv\", parse_dates= ['date'], dtype= data_type)\n",
    "df.describe()"
   ]
  },
  {
   "cell_type": "markdown",
   "metadata": {
    "_uuid": "d6ac868a853b9b2440ce7c190e253c9003b30a2b"
   },
   "source": [
    "The store and item columns are in the range 1 to 10 and 1 to 50 respectively. Sales values are in the range 0 to 231 with 52.25 mean.\n",
    "\n",
    "Let's plot the sales distribution:"
   ]
  },
  {
   "cell_type": "code",
   "execution_count": null,
   "metadata": {
    "_cell_guid": "79c7e3d0-c299-4dcb-8224-4455121ee9b0",
    "_uuid": "d629ff2d2480ee46fbb7e2d37f6b5fab8052498a",
    "collapsed": true
   },
   "outputs": [],
   "source": [
    "plt.figure(figsize=(12,5))\n",
    "plt.title(\"Distribution of sales - for each item, date and store\")\n",
    "ax = sns.distplot(df['sales'])"
   ]
  },
  {
   "cell_type": "markdown",
   "metadata": {
    "_uuid": "9fb458073b580ef2253bbad70c665f20f830eb5b"
   },
   "source": [
    "Now we will compare our data to the normal distribution using Scipy normaltest:"
   ]
  },
  {
   "cell_type": "code",
   "execution_count": null,
   "metadata": {
    "_uuid": "cbbff77c64d546fe6d3f6605d762d18c8cbc9872",
    "collapsed": true
   },
   "outputs": [],
   "source": [
    "print(\"p-value for sales distribution: {}\".format(st.normaltest(df.sales.values)[1]))\n",
    "plt.figure(figsize=(12,5))\n",
    "plt.title(\"Distribution of sales vs best fit normal distribution\")\n",
    "ax = sns.distplot(df.sales, fit= st.norm, kde=True, color='g')"
   ]
  },
  {
   "cell_type": "markdown",
   "metadata": {
    "_uuid": "011f3193f65cf0ca820c6a89131473aba13b7356"
   },
   "source": [
    "In the above plot, the green line represents our sales distribution, while the black line is the best normal distribution we can fit to our data. The p-value indicates that the null hypothesis can be rejected and therefore our data dont fit a normal distribution. Now let's try to find the best distribution for sales based on the sum of square error (SSE):"
   ]
  },
  {
   "cell_type": "code",
   "execution_count": null,
   "metadata": {
    "_kg_hide-input": true,
    "_uuid": "f8b6b7f0bc96e0fc4f46f889d1183463aa416c08",
    "collapsed": true
   },
   "outputs": [],
   "source": [
    "# Code (function) adapted from https://stackoverflow.com/questions/6620471/fitting-empirical-distribution-to-theoretical-ones-with-scipy-python\n",
    "def best_fit_distribution(data, bins= 200):\n",
    "    \"\"\"Model data by finding best fit distribution to data\"\"\"\n",
    "    y, x = np.histogram(data, bins=bins, density=True)\n",
    "    x = (x + np.roll(x, -1))[:-1] / 2.0\n",
    "\n",
    "    DISTRIBUTIONS = [        \n",
    "        st.alpha,st.beta,st.chi,st.chi2, st.dgamma,st.dweibull,st.erlang,st.exponweib,\n",
    "        st.f, st.genexpon,st.gausshyper,st.gamma, st.johnsonsb,st.johnsonsu, st.norm,\n",
    "        st.rayleigh,st.rice,st.recipinvgauss, st.t, st.weibull_min,st.weibull_max\n",
    "    ]\n",
    "\n",
    "    best_distribution = st.norm\n",
    "    best_params = (0.0, 1.0)\n",
    "    best_sse = np.inf\n",
    "\n",
    "    for distribution in DISTRIBUTIONS:\n",
    "        #print(\"Testing \" + str(distribution))\n",
    "\n",
    "        # Try to fit the distribution\n",
    "        #try:\n",
    "        # Ignore warnings from data that can't be fit\n",
    "        with warnings.catch_warnings():\n",
    "            warnings.filterwarnings('ignore')\n",
    "\n",
    "            # fit dist to data\n",
    "            params = distribution.fit(data)\n",
    "\n",
    "            # Separate parts of parameters\n",
    "            arg = params[:-2]\n",
    "            loc = params[-2]\n",
    "            scale = params[-1]\n",
    "\n",
    "            # Calculate fitted PDF and error with fit in distribution\n",
    "            pdf = distribution.pdf(x, loc=loc, scale=scale, *arg)\n",
    "            sse = np.sum(np.power(y - pdf, 2.0))\n",
    "\n",
    "            # identify if this distribution is better\n",
    "            if best_sse > sse > 0:\n",
    "                best_distribution = distribution\n",
    "                best_params = params\n",
    "                best_sse = sse\n",
    "        #except Exception:\n",
    "        #    pass\n",
    "\n",
    "    return (best_distribution.name, best_params)\n",
    "\n",
    "dist_name, best_params = best_fit_distribution(df.sales.values)\n",
    "print(\"Best distribution found: {}, with parameters: {}\".format(dist_name, best_params))"
   ]
  },
  {
   "cell_type": "code",
   "execution_count": null,
   "metadata": {
    "_uuid": "e1ea6e99e6a5ccec8f419ebaab1bdda52189b585",
    "collapsed": true
   },
   "outputs": [],
   "source": [
    "plt.figure(figsize=(12,5))\n",
    "plt.title(\"Distribution of sales vs Johnson-SB distribution (best fit)\")\n",
    "ax = sns.distplot(df.sales, fit= st.johnsonsb, kde=True, color='g')"
   ]
  },
  {
   "cell_type": "markdown",
   "metadata": {
    "_uuid": "3c720775e4abf65f595f8fe76e4a0d8236b9a36a",
    "collapsed": true
   },
   "source": [
    "<h3>2. Total sales</h3>\n",
    "\n",
    "Graph of <b>average monthly sales</b> for all stores and items:"
   ]
  },
  {
   "cell_type": "code",
   "execution_count": null,
   "metadata": {
    "_kg_hide-input": true,
    "_uuid": "67e1b7a0935a0f979e38403458edefd10db2ae65",
    "collapsed": true
   },
   "outputs": [],
   "source": [
    "monthly_df = df.groupby([df.date.dt.year, df.date.dt.month])['sales'].mean()\n",
    "monthly_df.index = monthly_df.index.set_names(['year', 'month'])\n",
    "monthly_df = monthly_df.reset_index()\n",
    "x_axis = []\n",
    "for y in range(13, 18):\n",
    "    for m in range(1,12):\n",
    "        x_axis.append(\"{}/{}\".format(m,y))\n",
    "trace = go.Scatter(x= x_axis, y= monthly_df.sales, mode= 'lines+markers', name= 'sales avg per month', line=dict(width=3))\n",
    "layout = go.Layout(autosize=True, title= 'Sales - average per month', showlegend=True)\n",
    "fig = go.Figure(data=[trace], layout=layout)\n",
    "iplot(fig)"
   ]
  },
  {
   "cell_type": "markdown",
   "metadata": {
    "_uuid": "f01bf8e7ff8e3077bb348ad29aadb55c18056683"
   },
   "source": [
    "<b>Total sales by year</b>"
   ]
  },
  {
   "cell_type": "code",
   "execution_count": null,
   "metadata": {
    "_kg_hide-input": true,
    "_uuid": "ec61c127db2da6f4635cf60a73ee9bf773d4dc3d",
    "collapsed": true
   },
   "outputs": [],
   "source": [
    "year_df = df.groupby(df.date.dt.year)['sales'].sum().to_frame()\n",
    "\n",
    "trace = go.Bar(\n",
    "    y= year_df.sales, x= ['2013','2014','2015','2016','2017'],\n",
    "    marker=dict(color='rgba(179, 143, 0, 0.6)', line=dict(color='rgba(179, 143, 0, 1.0)', width=1)),\n",
    "    name='Total sales by year', orientation='v'\n",
    ")\n",
    "\n",
    "layout = go.Layout(autosize=False, title= 'Total sales by year', showlegend=True, width=600, height=400)\n",
    "fig = go.Figure(data=[trace], layout=layout)\n",
    "iplot(fig)"
   ]
  },
  {
   "cell_type": "markdown",
   "metadata": {
    "_uuid": "103681178df53995800ffbab00e52b1ff6a80076"
   },
   "source": [
    "Sales are slowing increasing each year and there is a clear seasonality effect"
   ]
  },
  {
   "cell_type": "markdown",
   "metadata": {
    "_uuid": "04f2a21e1fee5a9976beb7fef6bcac65509defd5"
   },
   "source": [
    "<h3>3. Sales by store</h3>\n",
    "\n",
    "Average sales per month and store:"
   ]
  },
  {
   "cell_type": "code",
   "execution_count": null,
   "metadata": {
    "_kg_hide-input": true,
    "_uuid": "36533d60ea5ac65010fe86336ce226c61b23600c",
    "collapsed": true
   },
   "outputs": [],
   "source": [
    "monthly_df = df.groupby([df.date.dt.year, df.date.dt.month, 'store']).mean()\n",
    "monthly_df.index = monthly_df.index.set_names(['year', 'month', 'store'])\n",
    "monthly_df = monthly_df.reset_index()\n",
    "\n",
    "traces = []\n",
    "for i in range(1, 11):\n",
    "    store_sales = monthly_df[monthly_df.store == i]\n",
    "    trace = go.Scatter(x= x_axis, y= store_sales.sales, mode= 'lines+markers', name= 'Store '+str(i), line=dict(width=3))\n",
    "    traces.append(trace)\n",
    "layout = go.Layout(autosize=True, title= 'Sales - average per month', showlegend=True)\n",
    "fig = go.Figure(traces, layout=layout)\n",
    "iplot(fig)"
   ]
  },
  {
   "cell_type": "markdown",
   "metadata": {
    "_uuid": "856fb2d29a361ac35d9229b14708967c1c0716be"
   },
   "source": [
    "**Sales per store - bar chart**"
   ]
  },
  {
   "cell_type": "code",
   "execution_count": null,
   "metadata": {
    "_kg_hide-input": true,
    "_uuid": "0a8d2eb2aa20bd886d5ba43cf28b9d55a01361ff",
    "collapsed": true
   },
   "outputs": [],
   "source": [
    "store_total = df.groupby(['store'])['sales'].sum().to_frame().reset_index()\n",
    "store_total.sort_values(by = ['sales'], ascending=True, inplace=True)\n",
    "labels = ['Store {}'.format(i) for i in store_total.store]\n",
    "\n",
    "trace = go.Bar(\n",
    "    y= store_total.sales, x= labels,\n",
    "    marker=dict(color='rgba(255, 65, 54, 0.6)', line=dict(color='rgba(255, 65, 54, 1.0)', width=1)),\n",
    "    name='Total sales per store', orientation='v'\n",
    ")\n",
    "\n",
    "layout = go.Layout(autosize=True, title= 'Total sales by store')\n",
    "fig = go.Figure(data=[trace], layout=layout)\n",
    "iplot(fig)"
   ]
  },
  {
   "cell_type": "markdown",
   "metadata": {
    "_uuid": "423c326601643b1f7b6365750128ff8b622d66a0",
    "collapsed": true
   },
   "source": [
    "**Boxplot**"
   ]
  },
  {
   "cell_type": "code",
   "execution_count": null,
   "metadata": {
    "_kg_hide-input": true,
    "_uuid": "a155d055d19b9dec0ac24599e3657f7f769a4e5d",
    "collapsed": true
   },
   "outputs": [],
   "source": [
    "store_sum = df.groupby(['store', 'date'])['sales'].sum()\n",
    "traces = []\n",
    "\n",
    "for i in range(1, 11):\n",
    "    s = store_sum[i].to_frame().reset_index()\n",
    "    trace = go.Box(y= s.sales, name= 'Store {}'.format(i), jitter=0.8, whiskerwidth=0.2, marker=dict(size=2), line=dict(width=1))\n",
    "    traces.append(trace)\n",
    "\n",
    "layout = go.Layout(\n",
    "    title='Sales BoxPlot for each store',\n",
    "    yaxis=dict(\n",
    "        autorange=True, showgrid=True, zeroline=True,\n",
    "        gridcolor='rgb(233,233,233)', zerolinecolor='rgb(255, 255, 255)',\n",
    "        zerolinewidth=2, gridwidth=1\n",
    "    ),\n",
    "    margin=dict(l=40, r=30, b=80, t=100), showlegend=False,\n",
    ")\n",
    "\n",
    "fig = go.Figure(data=traces, layout=layout)\n",
    "iplot(fig)"
   ]
  },
  {
   "cell_type": "markdown",
   "metadata": {
    "_uuid": "1f0c23fc40b1071ad029d9ab50e1b4d386099dcb"
   },
   "source": [
    "**Sales for each store - time series**\n",
    "\n",
    "It's possible to select the store in the dropdown menu and the time frame on the range slider"
   ]
  },
  {
   "cell_type": "code",
   "execution_count": null,
   "metadata": {
    "_kg_hide-input": true,
    "_uuid": "606a4e406ba1f3436ec723fa11f1069e4371471e",
    "collapsed": true
   },
   "outputs": [],
   "source": [
    "data = []\n",
    "for i in range(1,11):\n",
    "    s = store_sum[i].to_frame().reset_index()\n",
    "    trace = go.Scatter(\n",
    "        x= s.date,\n",
    "        y= s.sales,\n",
    "        name = \"Store \"+str(i),\n",
    "        opacity = 0.9)\n",
    "    data.append(trace)\n",
    "\n",
    "# Buttons to select a specific store visualization\n",
    "update_buttons = []\n",
    "for i in range(10):\n",
    "    visible = [True if j == i else False for j in range(10)]\n",
    "    button= dict(label = 'Store ' + str(i+1), method= 'update', args= [{'visible': visible}])\n",
    "    update_buttons.append(button)\n",
    "# Button to return to all stores visualization\n",
    "update_buttons.append(dict(label = 'All', method= 'update', args= [{'visible': [True]*10}]))\n",
    "\n",
    "updatemenus = list([dict(active=-1, buttons=list(update_buttons))])\n",
    "\n",
    "layout = dict(\n",
    "    title='Sales by store and time',\n",
    "    updatemenus= updatemenus,\n",
    "    xaxis=dict(\n",
    "        rangeselector=dict(\n",
    "            buttons=list([\n",
    "                dict(count=1, label='1m', step='month', stepmode='backward'),\n",
    "                dict(count=6, label='6m', step='month', stepmode='backward'),\n",
    "                dict(count=12, label='12m', step='month', stepmode='backward'),\n",
    "                dict(count=24, label='24m', step='month', stepmode='backward'),\n",
    "                dict(count=36, label='36m', step='month', stepmode='backward'),\n",
    "                dict(step='all')\n",
    "            ])\n",
    "        ),\n",
    "        rangeslider=dict(), type='date'\n",
    "    )\n",
    ")\n",
    "\n",
    "fig = dict(data=data, layout=layout)\n",
    "iplot(fig, validate= False)"
   ]
  },
  {
   "cell_type": "markdown",
   "metadata": {
    "_uuid": "1c53ccdf12a98eeb995a4758a6d8f0795608abb1"
   },
   "source": [
    "<h3>4. Sales by item</h3>\n",
    "\n",
    "We have 50 different products with total sales that goes from 335k for Item 5 to 1.6M for item 15."
   ]
  },
  {
   "cell_type": "code",
   "execution_count": null,
   "metadata": {
    "_kg_hide-input": true,
    "_uuid": "2c0cd6668b4870133c62110221d2b986f517cd25",
    "collapsed": true
   },
   "outputs": [],
   "source": [
    "item_total = df.groupby(['item'])['sales'].sum().to_frame().reset_index()\n",
    "item_total.sort_values(by = ['sales'], ascending=False, inplace=True)\n",
    "labels = ['Item {}'.format(i) for i in item_total.item]\n",
    "\n",
    "trace = go.Bar(\n",
    "    y= item_total.sales, x= labels,\n",
    "    marker=dict(color='rgba(33, 33, 135, 0.6)', line=dict(color='rgba(33, 33, 135, 1.0)', width=1)),\n",
    "    name='Total sales by item', orientation='v'\n",
    ")\n",
    "layout = go.Layout(autosize=True, title= 'Sales per item (all time)')\n",
    "fig = go.Figure(data=[trace], layout=layout)\n",
    "iplot(fig)"
   ]
  },
  {
   "cell_type": "markdown",
   "metadata": {
    "_uuid": "14219c8dd6baf4aa02f122cef992f702b07318a9"
   },
   "source": [
    "**Boxplot**"
   ]
  },
  {
   "cell_type": "code",
   "execution_count": null,
   "metadata": {
    "_kg_hide-input": true,
    "_uuid": "efb1c2971d0dac9d52ce505a9d6e499b6eaef9ed",
    "collapsed": true
   },
   "outputs": [],
   "source": [
    "item_sum = df.groupby(['item', 'date'])['sales'].sum()\n",
    "traces = []\n",
    "\n",
    "for i in range(1, 51):\n",
    "    s = item_sum[i].to_frame().reset_index()\n",
    "    trace = go.Box(y= s.sales, name= 'Item {}'.format(i), jitter=0.8, whiskerwidth=0.2, marker=dict(size=2), line=dict(width=1))\n",
    "    traces.append(trace)\n",
    "\n",
    "layout = go.Layout(\n",
    "    title='Sales BoxPlot for each item',\n",
    "    yaxis=dict(\n",
    "        autorange=True, showgrid=True, zeroline=True,\n",
    "        gridcolor='rgb(233,233,233)', zerolinecolor='rgb(255, 255, 255)',\n",
    "        zerolinewidth=2, gridwidth=1\n",
    "    ),\n",
    "    margin=dict(l=40, r=30, b=80, t=100), showlegend=False,\n",
    ")\n",
    "\n",
    "fig = go.Figure(data=traces, layout=layout)\n",
    "iplot(fig)"
   ]
  },
  {
   "cell_type": "markdown",
   "metadata": {
    "_uuid": "9298838b9d573025db21d0fb6f7fa9ca8a7afa39",
    "collapsed": true
   },
   "source": [
    "<h3>5. Sales for each item and store</h3>\n",
    "\n",
    "To conclude, we will be ploting the time series for each store and item with a dropdown menu where it is possible to select a specific cobination."
   ]
  },
  {
   "cell_type": "code",
   "execution_count": null,
   "metadata": {
    "_kg_hide-input": true,
    "_uuid": "2ae66cdd969baab4d49e0da29f8dc2e8f6722756",
    "collapsed": true
   },
   "outputs": [],
   "source": [
    "\n",
    "data = []\n",
    "default_visible = [False]*500\n",
    "default_visible[0] = True\n",
    "for i in range(1, 51):\n",
    "    _df = df[df.item == i]\n",
    "    for s in range(1,11):\n",
    "        trace = go.Scatter(\n",
    "            x= _df[_df.store == s].date,\n",
    "            y= _df[_df.store == s].sales,\n",
    "            name = \"Store {} Item {} \".format(s, i),\n",
    "            visible = False,\n",
    "            opacity = 0.9)\n",
    "        data.append(trace)\n",
    "\n",
    "# Buttons to select a specific item and store visualization\n",
    "update_buttons = []\n",
    "for i in range(1, 51):\n",
    "    for s in range(1, 11):\n",
    "        visible = [True if k == i*s else False for k in range(1,501)]  \n",
    "        button= dict(label = 'Store {} Item {}'.format(s,i), method= 'update', args= [{'visible': visible}])\n",
    "        update_buttons.append(button)\n",
    "\n",
    "updatemenus = list([dict(active=-1, buttons=list(update_buttons))])\n",
    "\n",
    "layout = dict(\n",
    "    title='Sales by store and item',\n",
    "    #visible = default_visible,\n",
    "    updatemenus= updatemenus,\n",
    "    xaxis=dict(rangeslider=dict(), type='date')\n",
    ")\n",
    "\n",
    "fig = dict(data=data, layout=layout)\n",
    "iplot(fig, validate= False)"
   ]
  }
 ],
 "metadata": {
  "kernelspec": {
   "display_name": "Python 3",
   "language": "python",
   "name": "python3"
  },
  "language_info": {
   "codemirror_mode": {
    "name": "ipython",
    "version": 3
   },
   "file_extension": ".py",
   "mimetype": "text/x-python",
   "name": "python",
   "nbconvert_exporter": "python",
   "pygments_lexer": "ipython3",
   "version": "3.6.5"
  }
 },
 "nbformat": 4,
 "nbformat_minor": 1
}
